{
 "cells": [
  {
   "cell_type": "markdown",
   "id": "801ad141",
   "metadata": {},
   "source": [
    "# Eploratory data analysis of IPL 2023"
   ]
  },
  {
   "cell_type": "markdown",
   "id": "a86168de",
   "metadata": {},
   "source": [
    "This project is to explore the IPL 2023 data set to gain valuable insights into the trends and patterns underlying in the data"
   ]
  },
  {
   "cell_type": "markdown",
   "id": "bd4acd82",
   "metadata": {},
   "source": [
    "The data science languages are\n",
    "1. Python\n",
    "2. R\n",
    "3. Scala\n",
    "4. Julia\n",
    "5. MATLAB"
   ]
  },
  {
   "cell_type": "markdown",
   "id": "f3ef6380",
   "metadata": {},
   "source": [
    "The data science libraries are\n",
    "\n",
    "1. Pandas\n",
    "2. Numpy\n",
    "3. Scikit learn\n",
    "4. matplotlib"
   ]
  },
  {
   "cell_type": "markdown",
   "id": "813b9bf4",
   "metadata": {},
   "source": [
    "# Table"
   ]
  },
  {
   "cell_type": "markdown",
   "id": "8a6f2954",
   "metadata": {},
   "source": [
    "<table> \n",
    "    <tr><td>data science tools</td></tr>\n",
    "    <tr><td> Matlab </td></tr>\n",
    "<tr><td> KNIME </td></tr>\n",
    "<tr><td> Tableau </td></tr>\n",
    "<tr><td> Weka </td></tr>\n",
    "<tr><td> RapidMiner </td></tr>\n",
    "<tr><td> Apache Spark </td></tr>\n",
    "    </table>"
   ]
  },
  {
   "cell_type": "markdown",
   "id": "1140c7fd",
   "metadata": {},
   "source": [
    "### Below are a few examples of evaluating arithmetic expressions in Python"
   ]
  },
  {
   "cell_type": "code",
   "execution_count": 7,
   "id": "035d6b93",
   "metadata": {},
   "outputs": [
    {
     "data": {
      "text/plain": [
       "7"
      ]
     },
     "execution_count": 7,
     "metadata": {},
     "output_type": "execute_result"
    }
   ],
   "source": [
    "3+4"
   ]
  },
  {
   "cell_type": "code",
   "execution_count": 8,
   "id": "e3b8dd6a",
   "metadata": {},
   "outputs": [
    {
     "data": {
      "text/plain": [
       "1.25"
      ]
     },
     "execution_count": 8,
     "metadata": {},
     "output_type": "execute_result"
    }
   ],
   "source": [
    "5/4"
   ]
  },
  {
   "cell_type": "code",
   "execution_count": 9,
   "id": "5f37e39d",
   "metadata": {},
   "outputs": [
    {
     "data": {
      "text/plain": [
       "15"
      ]
     },
     "execution_count": 9,
     "metadata": {},
     "output_type": "execute_result"
    }
   ],
   "source": [
    "5*3"
   ]
  },
  {
   "cell_type": "code",
   "execution_count": 10,
   "id": "b9e3acd6",
   "metadata": {},
   "outputs": [
    {
     "data": {
      "text/plain": [
       "5"
      ]
     },
     "execution_count": 10,
     "metadata": {},
     "output_type": "execute_result"
    }
   ],
   "source": [
    "9-4"
   ]
  },
  {
   "cell_type": "code",
   "execution_count": 11,
   "id": "5c7463bf",
   "metadata": {},
   "outputs": [
    {
     "data": {
      "text/plain": [
       "-50"
      ]
     },
     "execution_count": 11,
     "metadata": {},
     "output_type": "execute_result"
    }
   ],
   "source": [
    "6-7*9+7"
   ]
  },
  {
   "cell_type": "code",
   "execution_count": 12,
   "id": "67f8149f",
   "metadata": {},
   "outputs": [
    {
     "data": {
      "text/plain": [
       "2119"
      ]
     },
     "execution_count": 12,
     "metadata": {},
     "output_type": "execute_result"
    }
   ],
   "source": [
    "#This a simple arithmetic expression to mutiply then add integers\n",
    "(34*46)+555"
   ]
  },
  {
   "cell_type": "code",
   "execution_count": 14,
   "id": "5e416115",
   "metadata": {},
   "outputs": [
    {
     "data": {
      "text/plain": [
       "3.3333333333333335"
      ]
     },
     "execution_count": 14,
     "metadata": {},
     "output_type": "execute_result"
    }
   ],
   "source": [
    "# This will convert 200 minutes to hours by diving by 60\n",
    "min = 200\n",
    "hrs = 200 / 60\n",
    "hrs"
   ]
  },
  {
   "cell_type": "markdown",
   "id": "a18e7c3f",
   "metadata": {},
   "source": [
    "# objectives\n",
    "<ul>\n",
    "<li>List of popular data science tools</li>\n",
    "<li>List of popular data science libraries</li>\n",
    "<li>This a simple arithmetic expression to mutiply then add integers</li>\n",
    "<li>This will convert 200 minutes to hours by diving by 60</li>\n",
    "</ul>"
   ]
  },
  {
   "cell_type": "markdown",
   "id": "68419e4a",
   "metadata": {},
   "source": [
    "## Author\n",
    "Steve Samson"
   ]
  },
  {
   "cell_type": "code",
   "execution_count": null,
   "id": "b3940674",
   "metadata": {},
   "outputs": [],
   "source": []
  }
 ],
 "metadata": {
  "kernelspec": {
   "display_name": "Python 3",
   "language": "python",
   "name": "python3"
  },
  "language_info": {
   "codemirror_mode": {
    "name": "ipython",
    "version": 3
   },
   "file_extension": ".py",
   "mimetype": "text/x-python",
   "name": "python",
   "nbconvert_exporter": "python",
   "pygments_lexer": "ipython3",
   "version": "3.7.1"
  }
 },
 "nbformat": 4,
 "nbformat_minor": 5
}
